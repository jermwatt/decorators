{
 "cells": [
  {
   "cell_type": "code",
   "execution_count": 4,
   "metadata": {},
   "outputs": [],
   "source": [
    "# generate paths\n",
    "import os\n",
    "import concurrent.futures\n",
    "from datetime import datetime\n",
    "import shutil"
   ]
  },
  {
   "cell_type": "markdown",
   "metadata": {},
   "source": [
    "# time / log decorator"
   ]
  },
  {
   "cell_type": "code",
   "execution_count": 4,
   "metadata": {},
   "outputs": [],
   "source": [
    "import functools\n",
    "import os\n",
    "from datetime import datetime\n",
    "\n",
    "# decorator for convinent time-based logging\n",
    "def log_it(**log_info):\n",
    "    def log_decorator(func):\n",
    "        @functools.wraps(func)\n",
    "        def wrapper(*args, **kwargs):\n",
    "            # set destination and message for log\n",
    "            log_name = 'test.txt'\n",
    "            if 'log_name' in log_info:\n",
    "                log_name = log_info['log_name']\n",
    "                \n",
    "            log_message = func.__name__\n",
    "            if 'log_message' in log_info:\n",
    "                log_message = log_info['log_message']\n",
    "                \n",
    "            # refresh log?\n",
    "            refresh = False\n",
    "            if 'refresh' in log_info:\n",
    "                refresh = log_info['refresh']\n",
    "                \n",
    "            if refresh == True:\n",
    "                if os.path.exists(log_name):\n",
    "                    os.remove(log_name)\n",
    "            \n",
    "            dateTimeObj = datetime.now().replace(microsecond=0)\n",
    "            print(dateTimeObj,'START:',log_message,file=open(log_name, \"a\"))\n",
    "            try:\n",
    "                result = func(*args, **kwargs)\n",
    "                dateTimeObj = datetime.now().replace(microsecond=0)\n",
    "                print(dateTimeObj,'SUCCESS:',log_message,file=open(log_name, \"a\"))   \n",
    "            except:\n",
    "                result = 0\n",
    "                dateTimeObj = datetime.now().replace(microsecond=0)\n",
    "                print(dateTimeObj,'FAILURE:',log_message,file=open(log_name, \"a\"))    \n",
    "            return result\n",
    "        return wrapper\n",
    "    return log_decorator"
   ]
  },
  {
   "cell_type": "code",
   "execution_count": 7,
   "metadata": {},
   "outputs": [],
   "source": [
    "@log_it(log_name = 'test.txt',log_message = 'wha??',refresh=True)\n",
    "def test(x,y):        \n",
    "    return x+y"
   ]
  },
  {
   "cell_type": "code",
   "execution_count": 8,
   "metadata": {},
   "outputs": [
    {
     "data": {
      "text/plain": [
       "6"
      ]
     },
     "execution_count": 8,
     "metadata": {},
     "output_type": "execute_result"
    }
   ],
   "source": [
    "test(4,2)"
   ]
  },
  {
   "cell_type": "code",
   "execution_count": 9,
   "metadata": {},
   "outputs": [
    {
     "data": {
      "text/plain": [
       "<function __main__.test(x, y)>"
      ]
     },
     "execution_count": 9,
     "metadata": {},
     "output_type": "execute_result"
    }
   ],
   "source": [
    "test"
   ]
  },
  {
   "cell_type": "code",
   "execution_count": 33,
   "metadata": {},
   "outputs": [
    {
     "data": {
      "text/plain": [
       "'test'"
      ]
     },
     "execution_count": 33,
     "metadata": {},
     "output_type": "execute_result"
    }
   ],
   "source": [
    "test.__name__"
   ]
  },
  {
   "cell_type": "markdown",
   "metadata": {},
   "source": [
    "# email notification decorator"
   ]
  },
  {
   "cell_type": "code",
   "execution_count": 40,
   "metadata": {},
   "outputs": [],
   "source": [
    "import smtplib, ssl\n",
    "import functools\n",
    "import os\n",
    "\n",
    "def email_decorator(func):\n",
    "    # setup email sender\n",
    "    sender_email = \"python.jobs.updates@gmail.com\" \n",
    "    receiver_email = \"python.jobs.updates@gmail.com\" \n",
    "    password = 'SquishFace11!'\n",
    "\n",
    "    # email sender - just define the message\n",
    "    def send_email(message):\n",
    "        # Create secure connection with server and send email\n",
    "        context = ssl.create_default_context()\n",
    "        with smtplib.SMTP_SSL(\"smtp.gmail.com\", 465, context=context) as server:\n",
    "            server.login(sender_email, password)\n",
    "            server.sendmail(\n",
    "                sender_email, receiver_email, message\n",
    "            )\n",
    "\n",
    "\n",
    "    # wrap input function    \n",
    "    @functools.wraps(func)\n",
    "    def wrapper(*args, **kwargs):\n",
    "        email_message = func.__name__\n",
    "\n",
    "        try: # sucess\n",
    "            # run function\n",
    "            result = func(*args, **kwargs)\n",
    "\n",
    "            # compose message to send\n",
    "            message = 'Subject: SUCCESS: function \"' + email_message    + '\" completed!'\n",
    "            message += '\\n\\n'\n",
    "            message += 'SUCCESS: function \"' + email_message    + '\" completed!'\n",
    "            send_email(message)\n",
    "        except:\n",
    "            # compose message to send\n",
    "            message = 'Subject: FAILED: function \"' + email_message    + '\" failed!'\n",
    "            message += '\\n\\n'         \n",
    "            message = 'FAILED: function \"' + email_message    + '\" failed!'\n",
    "            send_email(message)\n",
    "    return wrapper\n",
    "    "
   ]
  },
  {
   "cell_type": "code",
   "execution_count": 41,
   "metadata": {},
   "outputs": [],
   "source": [
    "@email_decorator\n",
    "def test(x,y):        \n",
    "    return x+y"
   ]
  },
  {
   "cell_type": "code",
   "execution_count": 42,
   "metadata": {},
   "outputs": [],
   "source": [
    "test(3,2)"
   ]
  },
  {
   "cell_type": "code",
   "execution_count": null,
   "metadata": {},
   "outputs": [],
   "source": []
  }
 ],
 "metadata": {
  "kernelspec": {
   "display_name": "Python 3",
   "language": "python",
   "name": "python3"
  },
  "language_info": {
   "codemirror_mode": {
    "name": "ipython",
    "version": 3
   },
   "file_extension": ".py",
   "mimetype": "text/x-python",
   "name": "python",
   "nbconvert_exporter": "python",
   "pygments_lexer": "ipython3",
   "version": "3.7.7"
  }
 },
 "nbformat": 4,
 "nbformat_minor": 4
}
