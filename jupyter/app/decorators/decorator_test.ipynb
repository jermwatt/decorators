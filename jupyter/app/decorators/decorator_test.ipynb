{
 "cells": [
  {
   "cell_type": "markdown",
   "metadata": {},
   "source": [
    "```6/17/2020 update```\n",
    "\n",
    "- Current decorators linked together in `decorators_class.py` file.\n",
    "\n",
    "- Wrapped individual decorators in class in order to simplify interface, so e.g., saving automatically logs, syncing automatically saves and logs"
   ]
  },
  {
   "cell_type": "markdown",
   "metadata": {},
   "source": [
    "# 1. Demos"
   ]
  },
  {
   "cell_type": "markdown",
   "metadata": {},
   "source": [
    "## 1.1  Import"
   ]
  },
  {
   "cell_type": "code",
   "execution_count": 1,
   "metadata": {},
   "outputs": [],
   "source": [
    "import decorators_class as decorators\n",
    "\n",
    "%load_ext autoreload\n",
    "%autoreload 2"
   ]
  },
  {
   "cell_type": "markdown",
   "metadata": {},
   "source": [
    "## 1.2  Create an instance of decorators"
   ]
  },
  {
   "cell_type": "code",
   "execution_count": 2,
   "metadata": {},
   "outputs": [],
   "source": [
    "# create instance\n",
    "decs = decorators.myDecorators()\n",
    "\n",
    "# reset files - currently includes log and file\n",
    "decs.reset_files()"
   ]
  },
  {
   "cell_type": "markdown",
   "metadata": {},
   "source": [
    "## 1.3  Try function"
   ]
  },
  {
   "cell_type": "code",
   "execution_count": 6,
   "metadata": {},
   "outputs": [],
   "source": [
    "@decs.try_it\n",
    "def test(x,y):\n",
    "    return x + y"
   ]
  },
  {
   "cell_type": "code",
   "execution_count": 7,
   "metadata": {},
   "outputs": [
    {
     "data": {
      "text/plain": [
       "7"
      ]
     },
     "execution_count": 7,
     "metadata": {},
     "output_type": "execute_result"
    }
   ],
   "source": [
    "test(2,5)"
   ]
  },
  {
   "cell_type": "code",
   "execution_count": 58,
   "metadata": {},
   "outputs": [
    {
     "data": {
      "text/plain": [
       "'FAILURE: function \"test\" failed, EXECPTION: unsupported operand type(s) for +: \\'int\\' and \\'str\\''"
      ]
     },
     "execution_count": 58,
     "metadata": {},
     "output_type": "execute_result"
    }
   ],
   "source": [
    "test(2,'a')"
   ]
  },
  {
   "cell_type": "markdown",
   "metadata": {},
   "source": [
    "## 1.4 Log execution of function"
   ]
  },
  {
   "cell_type": "code",
   "execution_count": 18,
   "metadata": {},
   "outputs": [],
   "source": [
    "@decs.log_it(log_name='test_log.txt',file_location='')\n",
    "def test(x,y):\n",
    "    return x + y"
   ]
  },
  {
   "cell_type": "code",
   "execution_count": 19,
   "metadata": {},
   "outputs": [
    {
     "data": {
      "text/plain": [
       "5"
      ]
     },
     "execution_count": 19,
     "metadata": {},
     "output_type": "execute_result"
    }
   ],
   "source": [
    "test(2,3)"
   ]
  },
  {
   "cell_type": "code",
   "execution_count": 20,
   "metadata": {},
   "outputs": [
    {
     "data": {
      "text/plain": [
       "'FAILURE: function \"test\" failed, EXECPTION: unsupported operand type(s) for +: \\'int\\' and \\'str\\''"
      ]
     },
     "execution_count": 20,
     "metadata": {},
     "output_type": "execute_result"
    }
   ],
   "source": [
    "test(2,'a')"
   ]
  },
  {
   "cell_type": "code",
   "execution_count": null,
   "metadata": {},
   "outputs": [],
   "source": [
    "# %load test_log.txt\n",
    "2020-06-17 20:05:54 START: function \"test\" starting execution\n",
    "2020-06-17 20:05:54 SUCCESS: function \"test\" executed properly\n",
    "2020-06-17 20:05:56 START: function \"test\" starting execution\n",
    "2020-06-17 20:05:56 FAILURE: function \"test\" failed, EXECPTION: unsupported operand type(s) for +: 'int' and 'str'\n"
   ]
  },
  {
   "cell_type": "markdown",
   "metadata": {},
   "source": [
    "## 1.5 Save output of function"
   ]
  },
  {
   "cell_type": "markdown",
   "metadata": {},
   "source": [
    "Now `save_it` automatically uses `try_it` on both the input function `func` and the save functionality itself."
   ]
  },
  {
   "cell_type": "markdown",
   "metadata": {},
   "source": [
    "An example of the standard save "
   ]
  },
  {
   "cell_type": "code",
   "execution_count": 3,
   "metadata": {},
   "outputs": [],
   "source": [
    "decs.reset_files()"
   ]
  },
  {
   "cell_type": "code",
   "execution_count": 4,
   "metadata": {},
   "outputs": [],
   "source": [
    "@decs.save_it(reset_file=False,reset_log=False,save_choice = 'plain')\n",
    "def test(x,y):        \n",
    "    return x+y"
   ]
  },
  {
   "cell_type": "code",
   "execution_count": 5,
   "metadata": {},
   "outputs": [
    {
     "data": {
      "text/plain": [
       "5"
      ]
     },
     "execution_count": 5,
     "metadata": {},
     "output_type": "execute_result"
    }
   ],
   "source": [
    "test(2,3)"
   ]
  },
  {
   "cell_type": "code",
   "execution_count": null,
   "metadata": {},
   "outputs": [],
   "source": [
    "# %load test_file.txt\n",
    "5\n"
   ]
  },
  {
   "cell_type": "code",
   "execution_count": null,
   "metadata": {},
   "outputs": [],
   "source": [
    "# %load test_log.txt\n",
    "2020-07-08 17:24:37 START: function \"test\" starting execution\n",
    "2020-07-08 17:24:37 SUCCESS: function \"test\" executed properly\n",
    "2020-07-08 17:24:37 START: \"save\" of function \"test\" starting execution\n",
    "2020-07-08 17:24:37 SUCCESS: \"save\" of function \"test\" executed properly\n"
   ]
  },
  {
   "cell_type": "code",
   "execution_count": 7,
   "metadata": {},
   "outputs": [
    {
     "data": {
      "text/plain": [
       "'FAILURE: function \"test\" failed, EXECPTION: unsupported operand type(s) for +: \\'int\\' and \\'str\\''"
      ]
     },
     "execution_count": 7,
     "metadata": {},
     "output_type": "execute_result"
    }
   ],
   "source": [
    "test(2,'a')"
   ]
  },
  {
   "cell_type": "code",
   "execution_count": null,
   "metadata": {},
   "outputs": [],
   "source": [
    "# %load test_log.txt\n",
    "2020-07-08 17:29:41 START: function \"test\" starting execution\n",
    "2020-07-08 17:29:41 SUCCESS: function \"test\" executed properly\n",
    "2020-07-08 17:29:41 START: \"save\" of function \"test\" starting execution\n",
    "2020-07-08 17:29:41 SUCCESS: \"save\" of function \"test\" executed properly\n",
    "2020-07-08 17:29:49 START: function \"test\" starting execution\n",
    "2020-07-08 17:29:49 FAILURE: function \"test\" failed, EXECPTION: unsupported operand type(s) for +: 'int' and 'str'\n"
   ]
  },
  {
   "cell_type": "code",
   "execution_count": null,
   "metadata": {},
   "outputs": [],
   "source": [
    "# %load test_file.txt\n",
    "5\n"
   ]
  },
  {
   "cell_type": "markdown",
   "metadata": {},
   "source": [
    "Now - an example of saving a list of dictionaries (this is a common pattern --> and uses `pandas` on the backend as opposed to the standard read/write library."
   ]
  },
  {
   "cell_type": "code",
   "execution_count": 9,
   "metadata": {},
   "outputs": [],
   "source": [
    "decs.reset_files()"
   ]
  },
  {
   "cell_type": "code",
   "execution_count": 10,
   "metadata": {},
   "outputs": [],
   "source": [
    "@decs.save_it(reset_file=False,reset_log=False)\n",
    "def some_dataprocessing_function(new_data):\n",
    "    return new_data"
   ]
  },
  {
   "cell_type": "code",
   "execution_count": 11,
   "metadata": {},
   "outputs": [],
   "source": [
    "example_data = [{'department': '[\"\\'bio and biomedical engineering\\'\"]',\n",
    "   'email': 'maa@illinois.edu',\n",
    "   'image': 'https://ws.engr.illinois.edu/directory/viewphoto.aspx?id=90764&s=140&type=portrait',\n",
    "   'name': 'mark a. anastasio',\n",
    "   'research_blurb': '<ul>\\nbioimaging at multi-scale\\ncomputational and systems biology\\n</ul>',\n",
    "   'research_tags': \"['systems biology', 'photoacoustic tomography', 'image reconstruction', 'machine learning']\",\n",
    "   'site': 'https://bioengineering.illinois.edu/directory/profile/maa',\n",
    "   'title': 'professor',\n",
    "   'university': 'university of illinois--urbana-champaign'},\n",
    "  {'department': '[\"\\'bio and biomedical engineering\\'\"]',\n",
    "   'email': 'rbashir@illinois.edu',\n",
    "   'image': 'https://ws.engr.illinois.edu/directory/viewphoto.aspx?id=4530&s=140&type=portrait',\n",
    "   'name': 'rashid bashir',\n",
    "   'research_blurb': 'rashid bashir completed his ph.d. from purdue university in oct. 1992. from oct. 1992 to oct. 1998, he worked at national semiconductor in the analog/mixed signal process technology development group, where he was promoted to sr. engineering manager. at national semiconductor, he led the development and commercialization of 4 analog semiconductor process technologies. he joined purdue university in oct. 1998 as an assistant professor and was later promoted to professor of electrical and computer engineering and a courtesy professor of biomedical engineering and mechanical engineering. in oct. 2007, he joined the university of illinois at urbana-champaign as the abel bliss professor of engineering, and professor of electrical and computer engineering &amp; bioengineering. he was the director of the micro and nanotechnology laboratory (mntl.illinois.edu), a campus-wide clean room facility, from oct. 2007 to aug. 2013 and the co-director of the campus-wide center for nanoscale science and technology (www.cnst.illinois.edu), a \"collaboratory\" aimed at facilitating center grants and large initiatives around campus in the area of nanotechnology. in oct. 2016, he was named the grainger distinguished chair in engineering. from aug. 2013 to aug 2017, he was the head of the bioengineering department. from 2017 to 2018 he was the executive associate dean and the chief diversity officer of the new carle-illinois \"engineering-based\" college of medicine at uiuc. in nov 2018, he was appointed as the 15th dean of the college engineering at the university of illinois at urbana-champaign. the college was named grainger college of engineering in honor of w. w. grainger in 2019.he has authored or co-authored over 250 journal papers, over 200 conference papers and conference abstracts, and over 100 invited talks, and has been granted 45 patents. he is a fellow of 8 international professional societies (ieee, aimbe, aaas, aps, iambe, rsc, bmes, and nai). his research interests include bionanotechnology, biomems, lab on a chip, interfacing of biology and engineering from the molecular to the tissue scale, and applications of semiconductor fabrication to biomedical engineering, all applied to solving biomedical problems. prof. bashir\\'s key technical contributions and achievements lie in the area of biomems and biomedical nanotechnology, especially in the use of electrical- or mechanical-based label-free methods for detection of biological entities on a chip. in addition, he has also made key contributions to 3-d fabrication methods that can be used for tissue engineering and development of cellular systems. he has been involved in 3 startups that have licensed his technologies (biovitesse, inc., daktari diagnostics, and, most recently, prenosis, inc.).in addition to leading his own research group, he was the pi on an nsf igert on cellular and molecular mechanics and bionanotechnology (2009-2016) and pi on an nih training grant on cancer nanotechnology (2009-2016). he is also the campus lead and co-pi on an nsf science and technology center (stc) on emergent behavior of integrated cellular systems (headquartered at mit, with partners at georgia tech and uiuc) (2009-2015, and renewed for another 5 years 2015-2020). he was also deputy director of the nsf nanobio node of the ncn (network for computational nanotechnology). he also served on the external advisory board of the nih-funded p41 biomems resource center at harvard/mgh and the nih-funded center for cancer nanotechnology excellence at stanford university, and on various editorial boards.he holds the grainger distinguished chair in engineering, tenured appointment in bioengineering, and affiliate appointments in electrical and computer engineering, mechanical science and engineering, materials science and engineering, and molecular and integrative physiology.\\n<h2>research topics</h2>\\n<ul>\\nbio-micro and nanotechnology\\n</ul>',\n",
    "   'research_tags': \"['micro and nanotechnology', 'materials science', 'technology development', 'mechanical engineering', 'materials science and engineering', 'biomedical engineering']\",\n",
    "   'site': 'https://bioengineering.illinois.edu/directory/profile/rbashir',\n",
    "   'title': 'professor',\n",
    "   'university': 'university of illinois--urbana-champaign'}]"
   ]
  },
  {
   "cell_type": "code",
   "execution_count": 13,
   "metadata": {},
   "outputs": [],
   "source": [
    "a = some_dataprocessing_function(example_data)"
   ]
  },
  {
   "cell_type": "code",
   "execution_count": 14,
   "metadata": {},
   "outputs": [
    {
     "data": {
      "text/html": [
       "<div>\n",
       "<style scoped>\n",
       "    .dataframe tbody tr th:only-of-type {\n",
       "        vertical-align: middle;\n",
       "    }\n",
       "\n",
       "    .dataframe tbody tr th {\n",
       "        vertical-align: top;\n",
       "    }\n",
       "\n",
       "    .dataframe thead th {\n",
       "        text-align: right;\n",
       "    }\n",
       "</style>\n",
       "<table border=\"1\" class=\"dataframe\">\n",
       "  <thead>\n",
       "    <tr style=\"text-align: right;\">\n",
       "      <th></th>\n",
       "      <th>department</th>\n",
       "      <th>email</th>\n",
       "      <th>image</th>\n",
       "      <th>name</th>\n",
       "      <th>research_blurb</th>\n",
       "      <th>research_tags</th>\n",
       "      <th>site</th>\n",
       "      <th>title</th>\n",
       "      <th>university</th>\n",
       "    </tr>\n",
       "  </thead>\n",
       "  <tbody>\n",
       "    <tr>\n",
       "      <th>0</th>\n",
       "      <td>[\"'bio and biomedical engineering'\"]</td>\n",
       "      <td>maa@illinois.edu</td>\n",
       "      <td>https://ws.engr.illinois.edu/directory/viewpho...</td>\n",
       "      <td>mark a. anastasio</td>\n",
       "      <td>&lt;ul&gt;\\nbioimaging at multi-scale\\ncomputational...</td>\n",
       "      <td>['systems biology', 'photoacoustic tomography'...</td>\n",
       "      <td>https://bioengineering.illinois.edu/directory/...</td>\n",
       "      <td>professor</td>\n",
       "      <td>university of illinois--urbana-champaign</td>\n",
       "    </tr>\n",
       "    <tr>\n",
       "      <th>1</th>\n",
       "      <td>[\"'bio and biomedical engineering'\"]</td>\n",
       "      <td>rbashir@illinois.edu</td>\n",
       "      <td>https://ws.engr.illinois.edu/directory/viewpho...</td>\n",
       "      <td>rashid bashir</td>\n",
       "      <td>rashid bashir completed his ph.d. from purdue ...</td>\n",
       "      <td>['micro and nanotechnology', 'materials scienc...</td>\n",
       "      <td>https://bioengineering.illinois.edu/directory/...</td>\n",
       "      <td>professor</td>\n",
       "      <td>university of illinois--urbana-champaign</td>\n",
       "    </tr>\n",
       "    <tr>\n",
       "      <th>2</th>\n",
       "      <td>[\"'bio and biomedical engineering'\"]</td>\n",
       "      <td>maa@illinois.edu</td>\n",
       "      <td>https://ws.engr.illinois.edu/directory/viewpho...</td>\n",
       "      <td>mark a. anastasio</td>\n",
       "      <td>&lt;ul&gt;\\nbioimaging at multi-scale\\ncomputational...</td>\n",
       "      <td>['systems biology', 'photoacoustic tomography'...</td>\n",
       "      <td>https://bioengineering.illinois.edu/directory/...</td>\n",
       "      <td>professor</td>\n",
       "      <td>university of illinois--urbana-champaign</td>\n",
       "    </tr>\n",
       "    <tr>\n",
       "      <th>3</th>\n",
       "      <td>[\"'bio and biomedical engineering'\"]</td>\n",
       "      <td>rbashir@illinois.edu</td>\n",
       "      <td>https://ws.engr.illinois.edu/directory/viewpho...</td>\n",
       "      <td>rashid bashir</td>\n",
       "      <td>rashid bashir completed his ph.d. from purdue ...</td>\n",
       "      <td>['micro and nanotechnology', 'materials scienc...</td>\n",
       "      <td>https://bioengineering.illinois.edu/directory/...</td>\n",
       "      <td>professor</td>\n",
       "      <td>university of illinois--urbana-champaign</td>\n",
       "    </tr>\n",
       "  </tbody>\n",
       "</table>\n",
       "</div>"
      ],
      "text/plain": [
       "                             department                 email  \\\n",
       "0  [\"'bio and biomedical engineering'\"]      maa@illinois.edu   \n",
       "1  [\"'bio and biomedical engineering'\"]  rbashir@illinois.edu   \n",
       "2  [\"'bio and biomedical engineering'\"]      maa@illinois.edu   \n",
       "3  [\"'bio and biomedical engineering'\"]  rbashir@illinois.edu   \n",
       "\n",
       "                                               image               name  \\\n",
       "0  https://ws.engr.illinois.edu/directory/viewpho...  mark a. anastasio   \n",
       "1  https://ws.engr.illinois.edu/directory/viewpho...      rashid bashir   \n",
       "2  https://ws.engr.illinois.edu/directory/viewpho...  mark a. anastasio   \n",
       "3  https://ws.engr.illinois.edu/directory/viewpho...      rashid bashir   \n",
       "\n",
       "                                      research_blurb  \\\n",
       "0  <ul>\\nbioimaging at multi-scale\\ncomputational...   \n",
       "1  rashid bashir completed his ph.d. from purdue ...   \n",
       "2  <ul>\\nbioimaging at multi-scale\\ncomputational...   \n",
       "3  rashid bashir completed his ph.d. from purdue ...   \n",
       "\n",
       "                                       research_tags  \\\n",
       "0  ['systems biology', 'photoacoustic tomography'...   \n",
       "1  ['micro and nanotechnology', 'materials scienc...   \n",
       "2  ['systems biology', 'photoacoustic tomography'...   \n",
       "3  ['micro and nanotechnology', 'materials scienc...   \n",
       "\n",
       "                                                site      title  \\\n",
       "0  https://bioengineering.illinois.edu/directory/...  professor   \n",
       "1  https://bioengineering.illinois.edu/directory/...  professor   \n",
       "2  https://bioengineering.illinois.edu/directory/...  professor   \n",
       "3  https://bioengineering.illinois.edu/directory/...  professor   \n",
       "\n",
       "                                 university  \n",
       "0  university of illinois--urbana-champaign  \n",
       "1  university of illinois--urbana-champaign  \n",
       "2  university of illinois--urbana-champaign  \n",
       "3  university of illinois--urbana-champaign  "
      ]
     },
     "execution_count": 14,
     "metadata": {},
     "output_type": "execute_result"
    }
   ],
   "source": [
    "import pandas as pd\n",
    "pd.read_csv('test_file.txt')"
   ]
  },
  {
   "cell_type": "markdown",
   "metadata": {},
   "source": [
    "## 1.6  Sync output of function"
   ]
  },
  {
   "cell_type": "markdown",
   "metadata": {},
   "source": [
    "Now `sync_it` automatically uses `save_it` which saves output of file, logs everything, tries everything."
   ]
  },
  {
   "cell_type": "code",
   "execution_count": 9,
   "metadata": {},
   "outputs": [],
   "source": [
    "decs.file_location = '/usr/src/jupyter/s3_bucket_data'\n",
    "decs.reset_files()\n",
    "@decs.sync_it(file_location = '/usr/src/jupyter/s3_bucket_data',bucket_location='s3://wattjer-model-output/test')\n",
    "def test(x,y):\n",
    "    return x + y"
   ]
  },
  {
   "cell_type": "code",
   "execution_count": 10,
   "metadata": {},
   "outputs": [
    {
     "data": {
      "text/plain": [
       "9"
      ]
     },
     "execution_count": 10,
     "metadata": {},
     "output_type": "execute_result"
    }
   ],
   "source": [
    "test(4,5)"
   ]
  },
  {
   "cell_type": "code",
   "execution_count": null,
   "metadata": {},
   "outputs": [],
   "source": [
    "# %load /usr/src/jupyter/s3_bucket_data/test_file.txt\n",
    "9\n"
   ]
  },
  {
   "cell_type": "code",
   "execution_count": null,
   "metadata": {},
   "outputs": [],
   "source": [
    "# %load /usr/src/jupyter/s3_bucket_data/test_log.txt\n",
    "2020-06-17 18:02:49 START: function \"test\" starting execution\n",
    "2020-06-17 18:02:49 SUCCESS: function \"test\" executed properly\n",
    "2020-06-17 18:02:49 START: \"save\" of function \"test\" starting execution\n",
    "2020-06-17 18:02:49 SUCCESS: \"save\" of function \"test\" executed properly\n",
    "2020-06-17 18:02:49 START: \"sync\" of data at /usr/src/jupyter/s3_bucket_data/test_file.txt and log at /usr/src/jupyter/s3_bucket_data/test_log.txt starting execution\n",
    "2020-06-17 18:02:52 SUCCESS: \"sync\" of data at /usr/src/jupyter/s3_bucket_data/test_file.txt and log at /usr/src/jupyter/s3_bucket_data/test_log.txt executed properly\n"
   ]
  },
  {
   "cell_type": "markdown",
   "metadata": {},
   "source": [
    "## 1.7  email notification decorator"
   ]
  },
  {
   "cell_type": "code",
   "execution_count": 26,
   "metadata": {},
   "outputs": [],
   "source": [
    "# setup email sender\n",
    "sender_email = \"python.jobs.updates@gmail.com\" \n",
    "receiver_email = \"python.jobs.updates@gmail.com\" \n",
    "password = 'SquishFace11!'\n",
    "decs.set_email_params(sender_email,receiver_email,password)"
   ]
  },
  {
   "cell_type": "code",
   "execution_count": 27,
   "metadata": {},
   "outputs": [],
   "source": [
    "@decs.email_it\n",
    "def test(x,y):        \n",
    "    return x+y"
   ]
  },
  {
   "cell_type": "code",
   "execution_count": 28,
   "metadata": {},
   "outputs": [
    {
     "ename": "SMTPAuthenticationError",
     "evalue": "(535, b'5.7.8 Username and Password not accepted. Learn more at\\n5.7.8  https://support.google.com/mail/?p=BadCredentials d23sm558073qtn.38 - gsmtp')",
     "output_type": "error",
     "traceback": [
      "\u001b[0;31m---------------------------------------------------------------------------\u001b[0m",
      "\u001b[0;31mSMTPAuthenticationError\u001b[0m                   Traceback (most recent call last)",
      "\u001b[0;32m/usr/src/jupyter/notebooks/decorators_class.py\u001b[0m in \u001b[0;36mwrapper\u001b[0;34m(*args, **kwargs)\u001b[0m\n\u001b[1;32m    339\u001b[0m                 \u001b[0mmessage\u001b[0m \u001b[0;34m+=\u001b[0m \u001b[0;34m'SUCCESS: function \"'\u001b[0m \u001b[0;34m+\u001b[0m \u001b[0memail_message\u001b[0m    \u001b[0;34m+\u001b[0m \u001b[0;34m'\" completed!'\u001b[0m\u001b[0;34m\u001b[0m\u001b[0;34m\u001b[0m\u001b[0m\n\u001b[0;32m--> 340\u001b[0;31m                 \u001b[0msend_email\u001b[0m\u001b[0;34m(\u001b[0m\u001b[0mmessage\u001b[0m\u001b[0;34m)\u001b[0m\u001b[0;34m\u001b[0m\u001b[0;34m\u001b[0m\u001b[0m\n\u001b[0m\u001b[1;32m    341\u001b[0m             \u001b[0;32mexcept\u001b[0m\u001b[0;34m:\u001b[0m\u001b[0;34m\u001b[0m\u001b[0;34m\u001b[0m\u001b[0m\n",
      "\u001b[0;32m/usr/src/jupyter/notebooks/decorators_class.py\u001b[0m in \u001b[0;36msend_email\u001b[0;34m(message)\u001b[0m\n\u001b[1;32m    321\u001b[0m             \u001b[0;32mwith\u001b[0m \u001b[0msmtplib\u001b[0m\u001b[0;34m.\u001b[0m\u001b[0mSMTP_SSL\u001b[0m\u001b[0;34m(\u001b[0m\u001b[0;34m\"smtp.gmail.com\"\u001b[0m\u001b[0;34m,\u001b[0m \u001b[0;36m465\u001b[0m\u001b[0;34m,\u001b[0m \u001b[0mcontext\u001b[0m\u001b[0;34m=\u001b[0m\u001b[0mcontext\u001b[0m\u001b[0;34m)\u001b[0m \u001b[0;32mas\u001b[0m \u001b[0mserver\u001b[0m\u001b[0;34m:\u001b[0m\u001b[0;34m\u001b[0m\u001b[0;34m\u001b[0m\u001b[0m\n\u001b[0;32m--> 322\u001b[0;31m                 \u001b[0mserver\u001b[0m\u001b[0;34m.\u001b[0m\u001b[0mlogin\u001b[0m\u001b[0;34m(\u001b[0m\u001b[0mself\u001b[0m\u001b[0;34m.\u001b[0m\u001b[0msender_email\u001b[0m\u001b[0;34m,\u001b[0m \u001b[0mself\u001b[0m\u001b[0;34m.\u001b[0m\u001b[0memail_psswd\u001b[0m\u001b[0;34m)\u001b[0m\u001b[0;34m\u001b[0m\u001b[0;34m\u001b[0m\u001b[0m\n\u001b[0m\u001b[1;32m    323\u001b[0m                 server.sendmail(\n",
      "\u001b[0;32m/usr/local/lib/python3.7/smtplib.py\u001b[0m in \u001b[0;36mlogin\u001b[0;34m(self, user, password, initial_response_ok)\u001b[0m\n\u001b[1;32m    729\u001b[0m         \u001b[0;31m# We could not login successfully.  Return result of last attempt.\u001b[0m\u001b[0;34m\u001b[0m\u001b[0;34m\u001b[0m\u001b[0;34m\u001b[0m\u001b[0m\n\u001b[0;32m--> 730\u001b[0;31m         \u001b[0;32mraise\u001b[0m \u001b[0mlast_exception\u001b[0m\u001b[0;34m\u001b[0m\u001b[0;34m\u001b[0m\u001b[0m\n\u001b[0m\u001b[1;32m    731\u001b[0m \u001b[0;34m\u001b[0m\u001b[0m\n",
      "\u001b[0;32m/usr/local/lib/python3.7/smtplib.py\u001b[0m in \u001b[0;36mlogin\u001b[0;34m(self, user, password, initial_response_ok)\u001b[0m\n\u001b[1;32m    720\u001b[0m                     \u001b[0mauthmethod\u001b[0m\u001b[0;34m,\u001b[0m \u001b[0mgetattr\u001b[0m\u001b[0;34m(\u001b[0m\u001b[0mself\u001b[0m\u001b[0;34m,\u001b[0m \u001b[0mmethod_name\u001b[0m\u001b[0;34m)\u001b[0m\u001b[0;34m,\u001b[0m\u001b[0;34m\u001b[0m\u001b[0;34m\u001b[0m\u001b[0m\n\u001b[0;32m--> 721\u001b[0;31m                     initial_response_ok=initial_response_ok)\n\u001b[0m\u001b[1;32m    722\u001b[0m                 \u001b[0;31m# 235 == 'Authentication successful'\u001b[0m\u001b[0;34m\u001b[0m\u001b[0;34m\u001b[0m\u001b[0;34m\u001b[0m\u001b[0m\n",
      "\u001b[0;32m/usr/local/lib/python3.7/smtplib.py\u001b[0m in \u001b[0;36mauth\u001b[0;34m(self, mechanism, authobject, initial_response_ok)\u001b[0m\n\u001b[1;32m    641\u001b[0m             \u001b[0;32mreturn\u001b[0m \u001b[0;34m(\u001b[0m\u001b[0mcode\u001b[0m\u001b[0;34m,\u001b[0m \u001b[0mresp\u001b[0m\u001b[0;34m)\u001b[0m\u001b[0;34m\u001b[0m\u001b[0;34m\u001b[0m\u001b[0m\n\u001b[0;32m--> 642\u001b[0;31m         \u001b[0;32mraise\u001b[0m \u001b[0mSMTPAuthenticationError\u001b[0m\u001b[0;34m(\u001b[0m\u001b[0mcode\u001b[0m\u001b[0;34m,\u001b[0m \u001b[0mresp\u001b[0m\u001b[0;34m)\u001b[0m\u001b[0;34m\u001b[0m\u001b[0;34m\u001b[0m\u001b[0m\n\u001b[0m\u001b[1;32m    643\u001b[0m \u001b[0;34m\u001b[0m\u001b[0m\n",
      "\u001b[0;31mSMTPAuthenticationError\u001b[0m: (535, b'5.7.8 Username and Password not accepted. Learn more at\\n5.7.8  https://support.google.com/mail/?p=BadCredentials e7sm531012qtd.83 - gsmtp')",
      "\nDuring handling of the above exception, another exception occurred:\n",
      "\u001b[0;31mSMTPAuthenticationError\u001b[0m                   Traceback (most recent call last)",
      "\u001b[0;32m<ipython-input-28-4ac63f3c7ebf>\u001b[0m in \u001b[0;36m<module>\u001b[0;34m\u001b[0m\n\u001b[0;32m----> 1\u001b[0;31m \u001b[0mtest\u001b[0m\u001b[0;34m(\u001b[0m\u001b[0;36m3\u001b[0m\u001b[0;34m,\u001b[0m\u001b[0;36m2\u001b[0m\u001b[0;34m)\u001b[0m\u001b[0;34m\u001b[0m\u001b[0;34m\u001b[0m\u001b[0m\n\u001b[0m",
      "\u001b[0;32m/usr/src/jupyter/notebooks/decorators_class.py\u001b[0m in \u001b[0;36mwrapper\u001b[0;34m(*args, **kwargs)\u001b[0m\n\u001b[1;32m    344\u001b[0m                 \u001b[0mmessage\u001b[0m \u001b[0;34m+=\u001b[0m \u001b[0;34m'\\n\\n'\u001b[0m\u001b[0;34m\u001b[0m\u001b[0;34m\u001b[0m\u001b[0m\n\u001b[1;32m    345\u001b[0m                 \u001b[0mmessage\u001b[0m \u001b[0;34m=\u001b[0m \u001b[0;34m'FAILED: function \"'\u001b[0m \u001b[0;34m+\u001b[0m \u001b[0memail_message\u001b[0m    \u001b[0;34m+\u001b[0m \u001b[0;34m'\" failed!'\u001b[0m\u001b[0;34m\u001b[0m\u001b[0;34m\u001b[0m\u001b[0m\n\u001b[0;32m--> 346\u001b[0;31m                 \u001b[0msend_email\u001b[0m\u001b[0;34m(\u001b[0m\u001b[0mmessage\u001b[0m\u001b[0;34m)\u001b[0m\u001b[0;34m\u001b[0m\u001b[0;34m\u001b[0m\u001b[0m\n\u001b[0m\u001b[1;32m    347\u001b[0m         \u001b[0;32mreturn\u001b[0m \u001b[0mwrapper\u001b[0m\u001b[0;34m\u001b[0m\u001b[0;34m\u001b[0m\u001b[0m\n",
      "\u001b[0;32m/usr/src/jupyter/notebooks/decorators_class.py\u001b[0m in \u001b[0;36msend_email\u001b[0;34m(message)\u001b[0m\n\u001b[1;32m    320\u001b[0m             \u001b[0mcontext\u001b[0m \u001b[0;34m=\u001b[0m \u001b[0mssl\u001b[0m\u001b[0;34m.\u001b[0m\u001b[0mcreate_default_context\u001b[0m\u001b[0;34m(\u001b[0m\u001b[0;34m)\u001b[0m\u001b[0;34m\u001b[0m\u001b[0;34m\u001b[0m\u001b[0m\n\u001b[1;32m    321\u001b[0m             \u001b[0;32mwith\u001b[0m \u001b[0msmtplib\u001b[0m\u001b[0;34m.\u001b[0m\u001b[0mSMTP_SSL\u001b[0m\u001b[0;34m(\u001b[0m\u001b[0;34m\"smtp.gmail.com\"\u001b[0m\u001b[0;34m,\u001b[0m \u001b[0;36m465\u001b[0m\u001b[0;34m,\u001b[0m \u001b[0mcontext\u001b[0m\u001b[0;34m=\u001b[0m\u001b[0mcontext\u001b[0m\u001b[0;34m)\u001b[0m \u001b[0;32mas\u001b[0m \u001b[0mserver\u001b[0m\u001b[0;34m:\u001b[0m\u001b[0;34m\u001b[0m\u001b[0;34m\u001b[0m\u001b[0m\n\u001b[0;32m--> 322\u001b[0;31m                 \u001b[0mserver\u001b[0m\u001b[0;34m.\u001b[0m\u001b[0mlogin\u001b[0m\u001b[0;34m(\u001b[0m\u001b[0mself\u001b[0m\u001b[0;34m.\u001b[0m\u001b[0msender_email\u001b[0m\u001b[0;34m,\u001b[0m \u001b[0mself\u001b[0m\u001b[0;34m.\u001b[0m\u001b[0memail_psswd\u001b[0m\u001b[0;34m)\u001b[0m\u001b[0;34m\u001b[0m\u001b[0;34m\u001b[0m\u001b[0m\n\u001b[0m\u001b[1;32m    323\u001b[0m                 server.sendmail(\n\u001b[1;32m    324\u001b[0m                     \u001b[0msender_email\u001b[0m\u001b[0;34m,\u001b[0m \u001b[0mself\u001b[0m\u001b[0;34m.\u001b[0m\u001b[0mreceiver_email\u001b[0m\u001b[0;34m,\u001b[0m \u001b[0mmessage\u001b[0m\u001b[0;34m\u001b[0m\u001b[0;34m\u001b[0m\u001b[0m\n",
      "\u001b[0;32m/usr/local/lib/python3.7/smtplib.py\u001b[0m in \u001b[0;36mlogin\u001b[0;34m(self, user, password, initial_response_ok)\u001b[0m\n\u001b[1;32m    728\u001b[0m \u001b[0;34m\u001b[0m\u001b[0m\n\u001b[1;32m    729\u001b[0m         \u001b[0;31m# We could not login successfully.  Return result of last attempt.\u001b[0m\u001b[0;34m\u001b[0m\u001b[0;34m\u001b[0m\u001b[0;34m\u001b[0m\u001b[0m\n\u001b[0;32m--> 730\u001b[0;31m         \u001b[0;32mraise\u001b[0m \u001b[0mlast_exception\u001b[0m\u001b[0;34m\u001b[0m\u001b[0;34m\u001b[0m\u001b[0m\n\u001b[0m\u001b[1;32m    731\u001b[0m \u001b[0;34m\u001b[0m\u001b[0m\n\u001b[1;32m    732\u001b[0m     \u001b[0;32mdef\u001b[0m \u001b[0mstarttls\u001b[0m\u001b[0;34m(\u001b[0m\u001b[0mself\u001b[0m\u001b[0;34m,\u001b[0m \u001b[0mkeyfile\u001b[0m\u001b[0;34m=\u001b[0m\u001b[0;32mNone\u001b[0m\u001b[0;34m,\u001b[0m \u001b[0mcertfile\u001b[0m\u001b[0;34m=\u001b[0m\u001b[0;32mNone\u001b[0m\u001b[0;34m,\u001b[0m \u001b[0mcontext\u001b[0m\u001b[0;34m=\u001b[0m\u001b[0;32mNone\u001b[0m\u001b[0;34m)\u001b[0m\u001b[0;34m:\u001b[0m\u001b[0;34m\u001b[0m\u001b[0;34m\u001b[0m\u001b[0m\n",
      "\u001b[0;32m/usr/local/lib/python3.7/smtplib.py\u001b[0m in \u001b[0;36mlogin\u001b[0;34m(self, user, password, initial_response_ok)\u001b[0m\n\u001b[1;32m    719\u001b[0m                 (code, resp) = self.auth(\n\u001b[1;32m    720\u001b[0m                     \u001b[0mauthmethod\u001b[0m\u001b[0;34m,\u001b[0m \u001b[0mgetattr\u001b[0m\u001b[0;34m(\u001b[0m\u001b[0mself\u001b[0m\u001b[0;34m,\u001b[0m \u001b[0mmethod_name\u001b[0m\u001b[0;34m)\u001b[0m\u001b[0;34m,\u001b[0m\u001b[0;34m\u001b[0m\u001b[0;34m\u001b[0m\u001b[0m\n\u001b[0;32m--> 721\u001b[0;31m                     initial_response_ok=initial_response_ok)\n\u001b[0m\u001b[1;32m    722\u001b[0m                 \u001b[0;31m# 235 == 'Authentication successful'\u001b[0m\u001b[0;34m\u001b[0m\u001b[0;34m\u001b[0m\u001b[0;34m\u001b[0m\u001b[0m\n\u001b[1;32m    723\u001b[0m                 \u001b[0;31m# 503 == 'Error: already authenticated'\u001b[0m\u001b[0;34m\u001b[0m\u001b[0;34m\u001b[0m\u001b[0;34m\u001b[0m\u001b[0m\n",
      "\u001b[0;32m/usr/local/lib/python3.7/smtplib.py\u001b[0m in \u001b[0;36mauth\u001b[0;34m(self, mechanism, authobject, initial_response_ok)\u001b[0m\n\u001b[1;32m    640\u001b[0m         \u001b[0;32mif\u001b[0m \u001b[0mcode\u001b[0m \u001b[0;32min\u001b[0m \u001b[0;34m(\u001b[0m\u001b[0;36m235\u001b[0m\u001b[0;34m,\u001b[0m \u001b[0;36m503\u001b[0m\u001b[0;34m)\u001b[0m\u001b[0;34m:\u001b[0m\u001b[0;34m\u001b[0m\u001b[0;34m\u001b[0m\u001b[0m\n\u001b[1;32m    641\u001b[0m             \u001b[0;32mreturn\u001b[0m \u001b[0;34m(\u001b[0m\u001b[0mcode\u001b[0m\u001b[0;34m,\u001b[0m \u001b[0mresp\u001b[0m\u001b[0;34m)\u001b[0m\u001b[0;34m\u001b[0m\u001b[0;34m\u001b[0m\u001b[0m\n\u001b[0;32m--> 642\u001b[0;31m         \u001b[0;32mraise\u001b[0m \u001b[0mSMTPAuthenticationError\u001b[0m\u001b[0;34m(\u001b[0m\u001b[0mcode\u001b[0m\u001b[0;34m,\u001b[0m \u001b[0mresp\u001b[0m\u001b[0;34m)\u001b[0m\u001b[0;34m\u001b[0m\u001b[0;34m\u001b[0m\u001b[0m\n\u001b[0m\u001b[1;32m    643\u001b[0m \u001b[0;34m\u001b[0m\u001b[0m\n\u001b[1;32m    644\u001b[0m     \u001b[0;32mdef\u001b[0m \u001b[0mauth_cram_md5\u001b[0m\u001b[0;34m(\u001b[0m\u001b[0mself\u001b[0m\u001b[0;34m,\u001b[0m \u001b[0mchallenge\u001b[0m\u001b[0;34m=\u001b[0m\u001b[0;32mNone\u001b[0m\u001b[0;34m)\u001b[0m\u001b[0;34m:\u001b[0m\u001b[0;34m\u001b[0m\u001b[0;34m\u001b[0m\u001b[0m\n",
      "\u001b[0;31mSMTPAuthenticationError\u001b[0m: (535, b'5.7.8 Username and Password not accepted. Learn more at\\n5.7.8  https://support.google.com/mail/?p=BadCredentials d23sm558073qtn.38 - gsmtp')"
     ]
    }
   ],
   "source": [
    "test(3,2)"
   ]
  }
 ],
 "metadata": {
  "kernelspec": {
   "display_name": "Python 3",
   "language": "python",
   "name": "python3"
  },
  "language_info": {
   "codemirror_mode": {
    "name": "ipython",
    "version": 3
   },
   "file_extension": ".py",
   "mimetype": "text/x-python",
   "name": "python",
   "nbconvert_exporter": "python",
   "pygments_lexer": "ipython3",
   "version": "3.6.9"
  }
 },
 "nbformat": 4,
 "nbformat_minor": 4
}
